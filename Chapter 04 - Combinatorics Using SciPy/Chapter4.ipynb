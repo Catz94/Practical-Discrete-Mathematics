{
  "cells": [
    {
      "cell_type": "markdown",
      "metadata": {
        "id": "ObwybyzXkUky"
      },
      "source": [
        "# Chapter 4 - Combinatorics Using SciPy\n",
        "\n",
        "This notebook contains code accompanying Chapter 4 Combinatorics Using SciPy in *Practical Discrete Mathematics* by Ryan T. White and Archana Tikayat Ray.\n",
        "\n",
        "## Counting Permutations and Combinations of Objects\n",
        "\n",
        "### Growth of Factorials\n",
        "\n",
        "Below, we compute some factorials, which count permutations."
      ]
    },
    {
      "cell_type": "code",
      "execution_count": 4,
      "metadata": {
        "id": "gazwGZoxkUk1",
        "outputId": "dbacee5a-e94a-4ee7-925b-104dc4950e9d",
        "colab": {
          "base_uri": "https://localhost:8080/"
        }
      },
      "outputs": [
        {
          "output_type": "stream",
          "name": "stdout",
          "text": [
            "15511210043330985984000000\n",
            "93326215443944152681699238856266700490715968264381621468592963895217599993229915608941463976156518286253697920827223758251185210916864000000000000000000000000\n"
          ]
        }
      ],
      "source": [
        "import math\n",
        "print(math.factorial(25))\n",
        "print(math.factorial(100))"
      ]
    },
    {
      "cell_type": "markdown",
      "metadata": {
        "id": "IbwoW4-wkUk2"
      },
      "source": [
        "### Example: Counting playlists\n",
        "\n",
        "The number of 10-permutations of the 20-song list can be computed with Python as follows."
      ]
    },
    {
      "cell_type": "code",
      "execution_count": null,
      "metadata": {
        "id": "-JGNVKc4kUk2",
        "outputId": "e5cdd631-5db5-4215-8a71-72053997f307"
      },
      "outputs": [
        {
          "name": "stdout",
          "output_type": "stream",
          "text": [
            "670442572800.0\n"
          ]
        }
      ],
      "source": [
        "import math\n",
        "print(math.factorial(20)/math.factorial(20-10))"
      ]
    },
    {
      "cell_type": "markdown",
      "metadata": {
        "id": "0TFZyn3JkUk3"
      },
      "source": [
        "### Example: Teambuilding\n",
        "\n",
        "The code below finds the number of possible 4-person teams we could build from four of twenty people."
      ]
    },
    {
      "cell_type": "code",
      "execution_count": null,
      "metadata": {
        "id": "459veid4kUk3",
        "outputId": "38844b7e-4876-410f-cbb8-f42885106197"
      },
      "outputs": [
        {
          "name": "stdout",
          "output_type": "stream",
          "text": [
            "4845.0\n",
            "4845.0\n"
          ]
        }
      ],
      "source": [
        "# using the factorial function\n",
        "import math\n",
        "print(math.factorial(20) / math.factorial(4) / math.factorial(20-4))\n",
        "\n",
        "# import the special functions from sciPy\n",
        "import scipy.special\n",
        "print(scipy.special.binom(20,4))"
      ]
    },
    {
      "cell_type": "markdown",
      "metadata": {
        "id": "R7EZuxZ8kUk3"
      },
      "source": [
        "## Applications to Memory Allocation\n",
        "\n",
        "### Example: Pre-allocating Memory\n",
        "\n",
        "Suppose we wish to create a large list of 1,000,000 numbers. The simplest way is to just run a loop, adding one element at a time to the vector. (Note that the runtime will vary depending on the hardware where you run the code.)"
      ]
    },
    {
      "cell_type": "code",
      "execution_count": 9,
      "metadata": {
        "id": "liwJdj8IkUk3",
        "outputId": "245c895d-3167-4f16-d459-2e31260256a0",
        "colab": {
          "base_uri": "https://localhost:8080/"
        }
      },
      "outputs": [
        {
          "output_type": "stream",
          "name": "stdout",
          "text": [
            "0.14066171646118164\n"
          ]
        }
      ],
      "source": [
        "import time\n",
        "\n",
        "number = 1000000\n",
        "\n",
        "# Check the current time\n",
        "startTime = time.time()\n",
        "\n",
        "# Create an empty list\n",
        "list = []\n",
        "\n",
        "# Add items to the list one by one\n",
        "for counter in range(number):\n",
        "    list.append(counter)\n",
        "\n",
        "# Display the run time\n",
        "print(time.time() - startTime)"
      ]
    },
    {
      "cell_type": "markdown",
      "metadata": {
        "id": "sySzfw8dkUk4"
      },
      "source": [
        "The code below can pre-allocate an array with 1,000,000 and fill it in with 1, 2, ..., 1,000,000. (Note that the runtime will vary depending on the hardware where you run the code.)"
      ]
    },
    {
      "cell_type": "code",
      "execution_count": 12,
      "metadata": {
        "id": "ECQan1aQkUk4",
        "outputId": "f2a2a447-8741-41d9-c0a8-2e0e47dc2507",
        "colab": {
          "base_uri": "https://localhost:8080/"
        }
      },
      "outputs": [
        {
          "output_type": "stream",
          "name": "stdout",
          "text": [
            "0.11922121047973633\n"
          ]
        }
      ],
      "source": [
        "import time\n",
        "number = 1000000\n",
        "\n",
        "# Check the current time\n",
        "startTime = time.time()\n",
        "\n",
        "# Create a list of 1000000 zeros\n",
        "list = [None]*number\n",
        "\n",
        "# Add items to the list one by one\n",
        "for counter in range(number):\n",
        "    list[counter] = counter\n",
        "\n",
        "# Display the run time\n",
        "print(time.time() - startTime)"
      ]
    },
    {
      "cell_type": "markdown",
      "metadata": {
        "id": "f4DnfeZTkUk4"
      },
      "source": [
        "## Efficacy of Brute Force Algorithms\n",
        "\n",
        "### Example: Caesar Cipher\n",
        "\n",
        "A brute force check of how the text would be decoded for each possible Caesar cipher."
      ]
    },
    {
      "cell_type": "code",
      "execution_count": 17,
      "metadata": {
        "id": "NXjMo8e8kUk5",
        "outputId": "7dc3c466-3bfd-40a9-d197-75d29d9f019f",
        "colab": {
          "base_uri": "https://localhost:8080/"
        }
      },
      "outputs": [
        {
          "output_type": "stream",
          "name": "stdout",
          "text": [
            "0 V3FZWH!\n",
            "1 W4G[XI\"\n",
            "2 X5H\\YJ#\n",
            "3 Y6I]ZK$\n",
            "4 Z7J^[L%\n",
            "5 [8K_\\M&\n",
            "6 \\9L`]N'\n",
            "7 ]:Ma^O(\n",
            "8 ^;Nb_P)\n",
            "9 _<Oc`Q*\n",
            "10 `=PdaR+\n",
            "11 a>QebS,\n",
            "12 b?RfcT-\n",
            "13 c@SgdU.\n",
            "14 dATheV/\n",
            "15 eBUifW0\n",
            "16 fCVjgX1\n",
            "17 gDWkhY2\n",
            "18 hEXliZ3\n",
            "19 iFYmj[4\n",
            "20 jGZnk\\5\n",
            "21 kH[ol]6\n",
            "22 lI\\pm^7\n",
            "23 mJ]qn_8\n",
            "24 nK^ro`9\n",
            "25 oL_spa:\n"
          ]
        }
      ],
      "source": [
        "# Intercepted message\n",
        "codedMessage = 'V3FZWH!'\n",
        "\n",
        "# We will shift by 0, shift by 1, shift by 2, ... and print the results\n",
        "for counter in range(26):\n",
        "    # Start with no guess\n",
        "    guessedMessage = ''\n",
        "\n",
        "    # Loop through each letter in the coded message\n",
        "    for x in codedMessage:\n",
        "\n",
        "        # If x is not a space\n",
        "        if x != ' ':\n",
        "\n",
        "            # Shift the letter forward by counter\n",
        "            if ord(x)+counter <= 122:\n",
        "                x = chr(ord(x)+counter)\n",
        "\n",
        "            # Subtract 26 if we go beyond z\n",
        "            else:\n",
        "                x = chr(ord(x)+counter-26)\n",
        "\n",
        "        # Build a guess for the message one letter at a time\n",
        "        guessedMessage = guessedMessage + x\n",
        "\n",
        "    # Print the counter (the shift) and the message\n",
        "    print(counter, guessedMessage)\n"
      ]
    },
    {
      "cell_type": "markdown",
      "source": [
        "Given the following original and decrypted words, write a python function to determine the possible cipher keys used in a Ceasar cipher. The function should ignore any non-alphabetic characters in the words.\n",
        "Original Word:\"S3CURE!\"\n",
        "Encrypted Word:\"V3FZWH!\"\n",
        "What is the possible keys, and how would you implement this in python?"
      ],
      "metadata": {
        "id": "KktbgP8HtfXs"
      }
    },
    {
      "cell_type": "code",
      "source": [
        "def get_cipher_key(original, encrypted):\n",
        "    # Helper function to clean non-alphabetic characters\n",
        "    def clean_word(word):\n",
        "        return ''.join([ch for ch in word if ch.isalpha()]).upper()\n",
        "\n",
        "    # Clean both original and encrypted words\n",
        "    original = clean_word(original)\n",
        "    encrypted = clean_word(encrypted)\n",
        "\n",
        "    # Check if both words have the same length after cleaning\n",
        "    if len(original) != len(encrypted):\n",
        "        raise ValueError(\"Original and Encrypted words must have the same length after cleaning.\")\n",
        "\n",
        "    # List to hold the possible shifts\n",
        "    possible_keys = []\n",
        "\n",
        "    # Calculate the shift for each character\n",
        "    for o_char, e_char in zip(original, encrypted):\n",
        "        o_index = ord(o_char) - ord('A')\n",
        "        e_index = ord(e_char) - ord('A')\n",
        "        shift = (e_index - o_index) % 26  # Calculate the shift, ensuring wrapping around\n",
        "        possible_keys.append(shift)\n",
        "\n",
        "    # All shifts should be the same for a valid Caesar cipher\n",
        "    # Instead of raising an error, return all possible keys\n",
        "    # This will show if there's inconsistency in the shift values\n",
        "    #if len(set(possible_keys)) == 1:\n",
        "    #    return possible_keys[0]\n",
        "    #else:\n",
        "    #    raise ValueError(\"The cipher does not seem to use a consistent Caesar shift.\")\n",
        "\n",
        "    return possible_keys # Return all calculated shifts\n",
        "\n",
        "\n",
        "# Test with the given input\n",
        "original_word = \"S3CURE!\"\n",
        "encrypted_word = \"V3FZWH!\"\n",
        "keys = get_cipher_key(original_word, encrypted_word)  # Get all possible keys\n",
        "print(f\"The possible cipher keys are: {keys}\")  # Print all keys"
      ],
      "metadata": {
        "id": "I_Bkx1wQtebj",
        "outputId": "98e5b07c-075f-4465-e76e-fe46acabac80",
        "colab": {
          "base_uri": "https://localhost:8080/"
        }
      },
      "execution_count": 19,
      "outputs": [
        {
          "output_type": "stream",
          "name": "stdout",
          "text": [
            "The possible cipher keys are: [3, 3, 5, 5, 3]\n"
          ]
        }
      ]
    },
    {
      "cell_type": "markdown",
      "metadata": {
        "id": "NtB2dasCkUk5"
      },
      "source": [
        "Clearly, the length of the shift is 13 letters as only this one produces an intelligible message."
      ]
    }
  ],
  "metadata": {
    "kernelspec": {
      "display_name": "Python 3.7 (DL)",
      "language": "python",
      "name": "dl"
    },
    "language_info": {
      "codemirror_mode": {
        "name": "ipython",
        "version": 3
      },
      "file_extension": ".py",
      "mimetype": "text/x-python",
      "name": "python",
      "nbconvert_exporter": "python",
      "pygments_lexer": "ipython3",
      "version": "3.7.7"
    },
    "colab": {
      "provenance": []
    }
  },
  "nbformat": 4,
  "nbformat_minor": 0
}