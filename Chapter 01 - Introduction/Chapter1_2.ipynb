{
  "cells": [
    {
      "cell_type": "markdown",
      "metadata": {
        "id": "RPS0c_VvWFM2"
      },
      "source": [
        "# Chapter 1 - Introduction: Key Concepts, Notation, Set Theory, Relations, and Functions\n",
        "\n",
        "This notebook contains code accompanying Chapter 1 Introduction: Key Concepts, Notation, Set Theory, Relations, and Functions in *Practical Discrete Mathematics* by Ryan T. White and Archana Tikayat Ray\n",
        "\n",
        "## Functions and Relations\n",
        "\n",
        "### The `sort()` function"
      ]
    },
    {
      "cell_type": "code",
      "execution_count": null,
      "metadata": {
        "id": "dYWyaN6WWFM4",
        "outputId": "c0ffade2-2b24-499a-c45d-c53071544cc7"
      },
      "outputs": [
        {
          "name": "stdout",
          "output_type": "stream",
          "text": [
            "[1, 2, 3, 4, 5, 8, 9, 12]\n",
            "['Brandon', 'Elise', 'Eugene', 'Kumar', 'Wyatt']\n"
          ]
        }
      ],
      "source": [
        "numbers = [3, 1, 4, 12, 8, 5, 2, 9]\n",
        "names = ['Wyatt', 'Brandon', 'Kumar', 'Eugene', 'Elise']\n",
        "\n",
        "# Apply the sort() function to the lists\n",
        "numbers.sort()\n",
        "names.sort()\n",
        "\n",
        "# Display the output\n",
        "print(numbers)\n",
        "print(names)"
      ]
    },
    {
      "cell_type": "markdown",
      "metadata": {
        "id": "A0WJj2ZTWFM5"
      },
      "source": [
        "### The `shuffle()` function"
      ]
    },
    {
      "cell_type": "code",
      "execution_count": 1,
      "metadata": {
        "id": "ePjd6VnVWFM6",
        "outputId": "df81ee03-eae8-467a-f017-4b477ea405f7",
        "colab": {
          "base_uri": "https://localhost:8080/"
        }
      },
      "outputs": [
        {
          "output_type": "stream",
          "name": "stdout",
          "text": [
            "[12, 2, 1, 5, 9, 3, 8, 4]\n",
            "[4, 2, 8, 3, 1, 12, 5, 9]\n",
            "[4, 5, 1, 9, 3, 8, 12, 2]\n",
            "[9, 12, 2, 8, 5, 3, 4, 1]\n",
            "[9, 8, 4, 3, 12, 1, 5, 2]\n"
          ]
        }
      ],
      "source": [
        "import random\n",
        "\n",
        "# Set a random seed so the code is reproducible\n",
        "random.seed(1)\n",
        "\n",
        "# Run the random.shuffle() function 5 times and display the outputs\n",
        "for i in range(0,5):\n",
        "    numbers = [3, 1, 4, 12, 8, 5, 2, 9]\n",
        "    random.shuffle(numbers)\n",
        "    print(numbers)"
      ]
    },
    {
      "cell_type": "markdown",
      "source": [
        "Question 1:  randomly create 2 set of number, find the common number in the 2 sets"
      ],
      "metadata": {
        "id": "zDgbq5rPanob"
      }
    },
    {
      "cell_type": "code",
      "source": [
        "import random\n",
        "\n",
        "# Generate two sets of random numbers\n",
        "set1 = {random.randint(0, 100) for _ in range(10)}\n",
        "set2 = {random.randint(0, 100) for _ in range(10)}\n",
        "\n",
        "# Find the common elements in both sets\n",
        "common_elements = set1 & set2\n",
        "\n",
        "print(\"Set 1:\", set1)\n",
        "print(\"Set 2:\", set2)\n",
        "print(\"Common elements:\", common_elements)\n"
      ],
      "metadata": {
        "id": "ip88y3veZEK8",
        "outputId": "6b28b034-3897-4d2a-f1b8-93e36bc69a8f",
        "colab": {
          "base_uri": "https://localhost:8080/"
        }
      },
      "execution_count": 3,
      "outputs": [
        {
          "output_type": "stream",
          "name": "stdout",
          "text": [
            "Set 1: {64, 37, 42, 15, 85, 54, 91, 92, 95}\n",
            "Set 2: {64, 36, 4, 38, 75, 50, 24, 61, 63}\n",
            "Common elements: {64}\n"
          ]
        }
      ]
    },
    {
      "cell_type": "markdown",
      "source": [
        "Question 2: shuffle the character in your name. For example:Apple Chan. After shuffle: eplepa nhac"
      ],
      "metadata": {
        "id": "YKpN0a3iayW2"
      }
    },
    {
      "cell_type": "code",
      "source": [
        "import random\n",
        "\n",
        "def shuffle_name(name):\n",
        "    name_list = list(name)\n",
        "    random.shuffle(name_list)\n",
        "    return ''.join(name_list)\n",
        "\n",
        "# Example usage\n",
        "name = \"Apple Chan\"\n",
        "shuffled_name = shuffle_name(name)\n",
        "print(\"Original name:\", name)\n",
        "print(\"Shuffled name:\", shuffled_name)\n"
      ],
      "metadata": {
        "id": "lNMs3oA-bJ4a",
        "outputId": "a9f378f5-e71a-4e54-ffd2-5cf7b3d22157",
        "colab": {
          "base_uri": "https://localhost:8080/"
        }
      },
      "execution_count": 4,
      "outputs": [
        {
          "output_type": "stream",
          "name": "stdout",
          "text": [
            "Original name: Apple Chan\n",
            "Shuffled name: nhAepp aCl\n"
          ]
        }
      ]
    },
    {
      "cell_type": "markdown",
      "source": [
        "Question 3: extract a table from wikipedia https://en.wikipedia.org/wiki/Frieren"
      ],
      "metadata": {
        "id": "BXXFHiOsbUa1"
      }
    },
    {
      "cell_type": "code",
      "source": [
        "import pandas as pd\n",
        "import requests\n",
        "from bs4 import BeautifulSoup\n",
        "\n",
        "# URL of the Wikipedia page\n",
        "url = \"https://en.wikipedia.org/wiki/Frieren\"\n",
        "\n",
        "# Send a GET request to fetch the page content\n",
        "response = requests.get(url)\n",
        "soup = BeautifulSoup(response.content, 'html.parser')\n",
        "\n",
        "# Find all tables in the page\n",
        "tables = soup.find_all('table', {'class': 'wikitable'})\n",
        "\n",
        "# Extract data from the first table (index 0)\n",
        "table = tables[0]\n",
        "df = pd.read_html(str(table))[0]\n",
        "\n",
        "# Print the table data\n",
        "print(df)\n",
        "\n"
      ],
      "metadata": {
        "id": "yYde1t2Dbiss",
        "outputId": "d8fc9140-ba9e-45f7-8ccf-8807df620664",
        "colab": {
          "base_uri": "https://localhost:8080/"
        }
      },
      "execution_count": 6,
      "outputs": [
        {
          "output_type": "stream",
          "name": "stdout",
          "text": [
            "    Year                                    Award  \\\n",
            "0   2021                          New Manga Award   \n",
            "1   2021                        14th Manga Taishō   \n",
            "2   2021         25th Tezuka Osamu Cultural Prize   \n",
            "3   2021  eBook Initiative Japan [ja] Manga Award   \n",
            "4   2021                45th Kodansha Manga Award   \n",
            "5   2021                 5th Tsutaya Comic Awards   \n",
            "6   2021                     7th Next Manga Award   \n",
            "7   2022                46th Kodansha Manga Award   \n",
            "8   2023        Rakuten Kobo's E-book Manga Award   \n",
            "9   2023              69th Shogakukan Manga Award   \n",
            "10  2024                48th Kodansha Manga Award   \n",
            "11  2024                       36th Harvey Awards   \n",
            "\n",
            "                                             Category     Result          ref.  \n",
            "0                                          Best Manga  2nd place          [74]  \n",
            "1                                         Grand Prize        Won  [75][76][77]  \n",
            "2                                   New Creator Prize        Won  [78][79][80]  \n",
            "3                                         Grand Prize  2nd place      [81][82]  \n",
            "4                                   Best Shōnen Manga  Nominated          [83]  \n",
            "5                                            Next Hit  5th place          [84]  \n",
            "6                                Print Manga Category  3rd place          [85]  \n",
            "7                                   Best Shōnen Manga  Nominated          [86]  \n",
            "8   I Want to Deliver It to the World! Top Recomme...        Won          [87]  \n",
            "9                                                —[b]        Won          [90]  \n",
            "10                                  Best Shōnen Manga        Won      [91][92]  \n",
            "11                                         Best Manga    Pending          [93]  \n"
          ]
        },
        {
          "output_type": "stream",
          "name": "stderr",
          "text": [
            "<ipython-input-6-cef9efbc6b4f>:17: FutureWarning: Passing literal html to 'read_html' is deprecated and will be removed in a future version. To read from a literal string, wrap it in a 'StringIO' object.\n",
            "  df = pd.read_html(str(table))[0]\n"
          ]
        }
      ]
    }
  ],
  "metadata": {
    "kernelspec": {
      "display_name": "Python 3",
      "name": "python3"
    },
    "language_info": {
      "name": "python"
    },
    "colab": {
      "provenance": []
    }
  },
  "nbformat": 4,
  "nbformat_minor": 0
}